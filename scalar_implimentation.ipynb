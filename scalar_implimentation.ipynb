{
 "cells": [
  {
   "cell_type": "code",
   "execution_count": 23,
   "metadata": {},
   "outputs": [],
   "source": [
    "from skyfield.api import EarthSatellite, load\n",
    "from scipy.optimize import minimize_scalar\n",
    "from scipy import optimize\n",
    "import datetime\n",
    "import numpy as np\n",
    "\n",
    "import matplotlib.pyplot as plt"
   ]
  },
  {
   "cell_type": "code",
   "execution_count": 24,
   "metadata": {},
   "outputs": [],
   "source": [
    "tle_lines = open('active_gp(21_06).txt').readlines()\n",
    "def read_tle(tle_lines,i):\n",
    "    if (i==1):\n",
    "        start_index = 0\n",
    "    if(i>1):\n",
    "        start_index = (i-1)*3  # as TLE as 3 lines including name\n",
    "    else: \n",
    "        print(\"invalid argument\")\n",
    "    line0_tle = tle_lines[start_index].strip()\n",
    "    line1_tle = tle_lines[start_index+1].strip()\n",
    "    line2_tle = tle_lines[start_index+2].strip()\n",
    "    return line0_tle, line1_tle, line2_tle\n",
    "\n"
   ]
  },
  {
   "cell_type": "code",
   "execution_count": 27,
   "metadata": {},
   "outputs": [
    {
     "name": "stdout",
     "output_type": "stream",
     "text": [
      "invalid argument\n",
      "ICEYE-X6\n",
      "STARLINK-5073\n"
     ]
    }
   ],
   "source": [
    "line0_tle1, line1_tle1, line2_tle1 = read_tle(tle_lines,1)\n",
    "print(line0_tle1)\n",
    "\n",
    "sat1 = EarthSatellite(line1_tle1, line2_tle1,line0_tle1,ts=load.timescale())\n",
    "line0_tle2, line1_tle2, line2_tle2 = read_tle(tle_lines,2)\n",
    "print(line0_tle2)\n",
    "sat2 = EarthSatellite(line1_tle2, line2_tle2,line0_tle2, ts=load.timescale())\n"
   ]
  },
  {
   "cell_type": "code",
   "execution_count": 37,
   "metadata": {},
   "outputs": [
    {
     "data": {
      "text/plain": [
       "3.974125586355056"
      ]
     },
     "execution_count": 37,
     "metadata": {},
     "output_type": "execute_result"
    }
   ],
   "source": [
    "dist=[]\n",
    "\n",
    "def get_position(unix_t):\n",
    "    \n",
    "    \n",
    "    t=load.timescale().utc(2023, 6, 23, 0, 30, unix_t)\n",
    "    #print(t)\n",
    "    #sat1 = EarthSatellite(line1_tle1, line2_tle1, ts=load.timescale())\n",
    "    #sat2 = EarthSatellite(line1_tle2, line2_tle2, ts=load.timescale())\n",
    "       \n",
    "        \n",
    "    dist_temp=(sat2.at(t) - sat1.at(t)).distance().km\n",
    "    \n",
    "    return dist_temp\n",
    "\n",
    "get_position(64931)\n"
   ]
  },
  {
   "cell_type": "code",
   "execution_count": 41,
   "metadata": {},
   "outputs": [],
   "source": [
    "def find_minimum(start_timestamp, end_timestamp):\n",
    "    # Define the function to be minimized\n",
    "    def objective_function(timestamp):\n",
    "        return get_position(timestamp)\n",
    "\n",
    "    # Perform minimization using scipy's minimize_scalar\n",
    "    result = minimize_scalar(objective_function, bounds=(start_timestamp, end_timestamp), method='brent')\n",
    "\n",
    "    return result.fun, result.x\n"
   ]
  },
  {
   "cell_type": "code",
   "execution_count": 44,
   "metadata": {},
   "outputs": [
    {
     "name": "stdout",
     "output_type": "stream",
     "text": [
      "650.9885177037685 -1371.4713685963552\n",
      "     fun: 650.9885177037685\n",
      "    nfev: 27\n",
      "     nit: 10\n",
      " success: True\n",
      "       x: -1371.4713685963552\n"
     ]
    }
   ],
   "source": [
    "fun, x = find_minimum(0,86000)\n",
    "print(fun,x)\n",
    "result = minimize_scalar(get_position, bounds=(0, 90000), method='brent')\n",
    "print(result)"
   ]
  },
  {
   "cell_type": "code",
   "execution_count": null,
   "metadata": {},
   "outputs": [],
   "source": []
  }
 ],
 "metadata": {
  "kernelspec": {
   "display_name": "base",
   "language": "python",
   "name": "python3"
  },
  "language_info": {
   "codemirror_mode": {
    "name": "ipython",
    "version": 3
   },
   "file_extension": ".py",
   "mimetype": "text/x-python",
   "name": "python",
   "nbconvert_exporter": "python",
   "pygments_lexer": "ipython3",
   "version": "3.9.12"
  },
  "orig_nbformat": 4
 },
 "nbformat": 4,
 "nbformat_minor": 2
}
